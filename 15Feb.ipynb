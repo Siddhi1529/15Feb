{
  "nbformat": 4,
  "nbformat_minor": 0,
  "metadata": {
    "colab": {
      "provenance": []
    },
    "kernelspec": {
      "name": "python3",
      "display_name": "Python 3"
    },
    "language_info": {
      "name": "python"
    }
  },
  "cells": [
    {
      "cell_type": "markdown",
      "source": [
        "Q1. What is multiprocessing in python? Why is it useful?\n"
      ],
      "metadata": {
        "id": "4-WHxMd5HX5f"
      }
    },
    {
      "cell_type": "markdown",
      "source": [
        "### Multiprocessing in Python:\n",
        "**Multiprocessing** is a module that enables the creation of multiple processes, each with its own memory space. Unlike threads, processes can run in parallel on multiple CPU cores, making it ideal for CPU-bound tasks.\n",
        "\n",
        "Its useful for -\n",
        "- **True Parallelism**: Utilizes multiple CPU cores, allowing parallel execution.\n",
        "- **Better Performance**: Great for CPU-intensive tasks, bypassing the Global Interpreter Lock (GIL).\n",
        "- **Process Isolation**: Each process has its own memory, reducing the risk of shared memory issues like race conditions.\n",
        "- **Multi-core Utilization**: Maximizes the use of multi-core processors."
      ],
      "metadata": {
        "id": "Mi6P1QFsHqW9"
      }
    },
    {
      "cell_type": "code",
      "source": [],
      "metadata": {
        "id": "DBd6_A6EHYwa"
      },
      "execution_count": null,
      "outputs": []
    },
    {
      "cell_type": "markdown",
      "source": [
        "Q2. What are the differences between multiprocessing and multithreading?\n"
      ],
      "metadata": {
        "id": "I5A2N7HiHY2N"
      }
    },
    {
      "cell_type": "markdown",
      "source": [
        "### Differences between Multiprocessing and Multithreading:\n",
        "\n",
        "1. **Execution**:\n",
        "   - **Multiprocessing**: Uses multiple processes, each with its own memory, allowing true parallelism.\n",
        "   - **Multithreading**: Uses threads within a single process, sharing the same memory space.\n",
        "\n",
        "2. **Use Case**:\n",
        "   - **Multiprocessing**: Ideal for CPU-bound tasks.\n",
        "   - **Multithreading**: Best for I/O-bound tasks.\n",
        "\n",
        "3. **Performance**:\n",
        "   - **Multiprocessing**: Can fully utilize multiple CPU cores.\n",
        "   - **Multithreading**: Limited by the Global Interpreter Lock (GIL) in Python for CPU-bound tasks."
      ],
      "metadata": {
        "id": "yLe0UuQ_H15T"
      }
    },
    {
      "cell_type": "code",
      "source": [],
      "metadata": {
        "id": "V0CTbM-4HZ40"
      },
      "execution_count": null,
      "outputs": []
    },
    {
      "cell_type": "markdown",
      "source": [
        "Q3. Write a python code to create a process using the multiprocessing module.\n"
      ],
      "metadata": {
        "id": "6dm1qwHxHZ_R"
      }
    },
    {
      "cell_type": "code",
      "source": [
        "import multiprocessing\n",
        "\n",
        "# Function to be executed by the process\n",
        "def print_square(number):\n",
        "    print(f\"Square of {number}: {number ** 2}\")\n",
        "\n",
        "if __name__ == \"__main__\":\n",
        "    # Create a new process\n",
        "    process = multiprocessing.Process(target=print_square, args=(5,))\n",
        "\n",
        "    # Start the process\n",
        "    process.start()\n",
        "\n",
        "    # Wait for the process to complete\n",
        "    process.join()\n",
        "\n",
        "    print(\"Process has finished execution.\")\n"
      ],
      "metadata": {
        "colab": {
          "base_uri": "https://localhost:8080/"
        },
        "id": "QprFcHsXHbKp",
        "outputId": "2473a0a6-9b97-4254-ee9c-bbff031f4172"
      },
      "execution_count": 1,
      "outputs": [
        {
          "output_type": "stream",
          "name": "stdout",
          "text": [
            "Square of 5: 25\n",
            "Process has finished execution.\n"
          ]
        }
      ]
    },
    {
      "cell_type": "markdown",
      "source": [
        "Q4. What is a multiprocessing pool in python? Why is it used?\n"
      ],
      "metadata": {
        "id": "9rtTUVG3HbR2"
      }
    },
    {
      "cell_type": "markdown",
      "source": [
        "A multiprocessing pool in Python is a group of worker processes that can be used to parallelize tasks. It allows the execution of a function across multiple input values simultaneously, improving efficiency for CPU-bound tasks. The Pool class in the multiprocessing module manages the processes and distributes tasks to worker processes. It is useful for managing multiple processes without manually creating and handling each one."
      ],
      "metadata": {
        "id": "FKqGXMjqIAP9"
      }
    },
    {
      "cell_type": "code",
      "source": [
        "import multiprocessing\n",
        "\n",
        "def square(x):\n",
        "    return x * x\n",
        "\n",
        "with multiprocessing.Pool(4) as pool:\n",
        "    result = pool.map(square, [1, 2, 3, 4, 5])\n",
        "print(result)\n"
      ],
      "metadata": {
        "colab": {
          "base_uri": "https://localhost:8080/"
        },
        "id": "4_Oc9SChHcRF",
        "outputId": "3c8c4400-9c3d-4392-e7bc-996a87c1c64e"
      },
      "execution_count": 2,
      "outputs": [
        {
          "output_type": "stream",
          "name": "stdout",
          "text": [
            "[1, 4, 9, 16, 25]\n"
          ]
        }
      ]
    },
    {
      "cell_type": "markdown",
      "source": [
        "Q5. How can we create a pool of worker processes in python using the multiprocessing module?"
      ],
      "metadata": {
        "id": "f2SnQr5yHcWM"
      }
    },
    {
      "cell_type": "markdown",
      "source": [
        "To create a pool of worker processes in Python using the multiprocessing module, you can use the Pool class. Here's how to do it:\n",
        "\n",
        "Import the multiprocessing module.\n",
        "Create a Pool of worker processes.\n",
        "Use map() or apply() methods to distribute tasks to the pool.\n"
      ],
      "metadata": {
        "id": "Wzsg3XA_IKW3"
      }
    },
    {
      "cell_type": "code",
      "source": [
        "import multiprocessing\n",
        "\n",
        "# Function to calculate square\n",
        "def square(x):\n",
        "    return x * x\n",
        "\n",
        "if __name__ == \"__main__\":\n",
        "    # Create a pool of 4 worker processes\n",
        "    with multiprocessing.Pool(4) as pool:\n",
        "        # Map function to a list of numbers\n",
        "        results = pool.map(square, [1, 2, 3, 4, 5])\n",
        "\n",
        "    print(results)\n"
      ],
      "metadata": {
        "colab": {
          "base_uri": "https://localhost:8080/"
        },
        "id": "NVRS2BmBHdUQ",
        "outputId": "8f10caec-f21f-4744-fcba-b8f5265ce8e9"
      },
      "execution_count": 3,
      "outputs": [
        {
          "output_type": "stream",
          "name": "stdout",
          "text": [
            "[1, 4, 9, 16, 25]\n"
          ]
        }
      ]
    },
    {
      "cell_type": "code",
      "source": [],
      "metadata": {
        "id": "gu-00up7He8t"
      },
      "execution_count": null,
      "outputs": []
    },
    {
      "cell_type": "markdown",
      "source": [
        "Q6. Write a python program to create 4 processes, each process should print a different number using the\n",
        "multiprocessing module in python."
      ],
      "metadata": {
        "id": "AMi9Qb9cIC3j"
      }
    },
    {
      "cell_type": "code",
      "source": [
        "import multiprocessing\n",
        "\n",
        "# Function to print a number\n",
        "def print_number(number):\n",
        "    print(f\"Process {number}: {number}\")\n",
        "\n",
        "if __name__ == \"__main__\":\n",
        "    # Create 4 processes\n",
        "    processes = []\n",
        "    for i in range(1, 5):\n",
        "        process = multiprocessing.Process(target=print_number, args=(i,))\n",
        "        processes.append(process)\n",
        "        process.start()\n",
        "\n",
        "    # Wait for all processes to complete\n",
        "    for process in processes:\n",
        "        process.join()\n",
        "\n",
        "    print(\"All processes have finished execution.\")\n"
      ],
      "metadata": {
        "colab": {
          "base_uri": "https://localhost:8080/"
        },
        "id": "mk00fe5GHiGR",
        "outputId": "744e1e7f-59ac-4465-e3fe-dd2ff9ed180f"
      },
      "execution_count": 4,
      "outputs": [
        {
          "output_type": "stream",
          "name": "stdout",
          "text": [
            "Process 1: 1Process 2: 2\n",
            "\n",
            "Process 3: 3\n",
            "Process 4: 4\n",
            "All processes have finished execution.\n"
          ]
        }
      ]
    }
  ]
}